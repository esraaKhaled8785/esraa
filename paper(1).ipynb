{
  "cells": [
    {
      "cell_type": "code",
      "execution_count": 227,
      "metadata": {
        "id": "tbrAUcPYWp3n"
      },
      "outputs": [],
      "source": [
        "import tensorflow as tf\n",
        "from tensorflow import keras\n",
        "from keras import layers\n",
        "import matplotlib.pyplot as plt\n",
        "import numpy as np\n",
        "import tifffile as tiff\n",
        "import os\n",
        "import cv2\n",
        "from skimage.transform import resize\n",
        "from sklearn.preprocessing import LabelEncoder\n",
        "import os\n",
        "from PIL import Image\n",
        "from keras.layers import Dense,Flatten,Dropout\n",
        "from keras.callbacks import EarlyStopping\n",
        "from sklearn.preprocessing import LabelEncoder\n",
        "from sklearn.model_selection import train_test_split\n",
        "import tensorflow as tf\n",
        "from keras import regularizers\n",
        "from keras.preprocessing.image import ImageDataGenerator\n",
        "from keras.applications import EfficientNetB0\n",
        "from keras.applications.inception_v3 import InceptionV3\n",
        "from keras.applications.vgg16 import VGG16\n",
        "from keras.models import Sequential\n",
        "from keras.applications.vgg16 import preprocess_input\n",
        "from keras import layers, models\n",
        "from keras.applications.resnet50 import ResNet50\n",
        "from keras.applications.mobilenet_v2 import MobileNetV2"
      ]
    },
    {
      "cell_type": "code",
      "execution_count": 228,
      "metadata": {
        "colab": {
          "base_uri": "https://localhost:8080/"
        },
        "id": "fZrnkdvsCRof",
        "outputId": "baf21d63-6ca3-40f9-e869-5997aa25ce27"
      },
      "outputs": [
        {
          "output_type": "stream",
          "name": "stdout",
          "text": [
            "Drive already mounted at /content/drive; to attempt to forcibly remount, call drive.mount(\"/content/drive\", force_remount=True).\n"
          ]
        }
      ],
      "source": [
        "from google.colab import drive\n",
        "drive.mount('/content/drive')"
      ]
    },
    {
      "cell_type": "code",
      "execution_count": 229,
      "metadata": {
        "id": "Hr4f80QflSmD"
      },
      "outputs": [],
      "source": [
        "train='/content/drive/MyDrive/deep learning/train'\n",
        "test='/content/drive/MyDrive/deep learning/test'"
      ]
    },
    {
      "cell_type": "code",
      "execution_count": 230,
      "metadata": {
        "id": "07PD-LAEYE9k"
      },
      "outputs": [],
      "source": [
        "batch_size = 32\n",
        "img_width=224\n",
        "img_height=224\n",
        "img_size=128\n",
        "epochs=70\n",
        "numOfClasses=2"
      ]
    },
    {
      "cell_type": "code",
      "execution_count": 231,
      "metadata": {
        "colab": {
          "base_uri": "https://localhost:8080/"
        },
        "id": "5WggKqpGajHt",
        "outputId": "f82dee4d-7857-48f7-db9f-85d592998b70"
      },
      "outputs": [
        {
          "output_type": "stream",
          "name": "stdout",
          "text": [
            "Found 84 images belonging to 2 classes.\n",
            "Found 4 images belonging to 2 classes.\n"
          ]
        }
      ],
      "source": [
        "data_generator = ImageDataGenerator(\n",
        "    rescale = 1. / 255,\n",
        "    shear_range = 0.2,\n",
        "    zoom_range = 0.2,\n",
        "    horizontal_flip = True,\n",
        "    vertical_flip = True,\n",
        "    rotation_range = 180,\n",
        "    width_shift_range = 0.2,\n",
        "    height_shift_range = 0.2,\n",
        "    validation_split = 0.2)\n",
        "\n",
        "train_generator = data_generator.flow_from_directory(\n",
        "    '/content/drive/MyDrive/deep learning/train',\n",
        "    target_size =(img_width, img_height),\n",
        "    batch_size = batch_size,\n",
        "    shuffle = True,\n",
        "    #class_mode = 'binary',\n",
        "    seed = 42,\n",
        "    subset='training')\n",
        "\n",
        "validation_generator = data_generator.flow_from_directory(\n",
        "  '/content/drive/MyDrive/deep learning/test',\n",
        "    target_size =(img_width, img_height),\n",
        "    batch_size = batch_size,\n",
        "    shuffle = True,\n",
        "   # class_mode = 'binary',\n",
        "    seed = 42,\n",
        "    subset='validation')"
      ]
    },
    {
      "cell_type": "code",
      "execution_count": 232,
      "metadata": {
        "colab": {
          "base_uri": "https://localhost:8080/"
        },
        "id": "TFA6GGHEwo9v",
        "outputId": "3fc4cabc-4754-4f54-d8f3-87b3f4d7a54f"
      },
      "outputs": [
        {
          "output_type": "stream",
          "name": "stderr",
          "text": [
            "100%|██████████| 1/1 [00:00<00:00,  2.42it/s]"
          ]
        },
        {
          "output_type": "stream",
          "name": "stdout",
          "text": [
            "(64, 224, 224, 3) (64, 2)\n"
          ]
        },
        {
          "output_type": "stream",
          "name": "stderr",
          "text": [
            "\n"
          ]
        }
      ],
      "source": [
        "import tqdm\n",
        "train_generator.reset()\n",
        "X_train, y_train = next(train_generator)\n",
        "for i in tqdm.tqdm(range(int(train_generator.n/batch_size)-1)):\n",
        "  img, label = next(train_generator)\n",
        "  X_train = np.append(X_train, img, axis=0 )\n",
        "  y_train = np.append(y_train, label, axis=0)\n",
        "print(X_train.shape, y_train.shape)"
      ]
    },
    {
      "cell_type": "code",
      "execution_count": 233,
      "metadata": {
        "colab": {
          "base_uri": "https://localhost:8080/"
        },
        "id": "vq_8rw_exBLs",
        "outputId": "bb26b228-713e-48a1-87df-5647176fcf9f"
      },
      "outputs": [
        {
          "output_type": "stream",
          "name": "stderr",
          "text": [
            "100%|██████████| 1/1 [00:00<00:00,  2.00it/s]"
          ]
        },
        {
          "output_type": "stream",
          "name": "stdout",
          "text": [
            "(84, 224, 224, 3) (84, 2)\n"
          ]
        },
        {
          "output_type": "stream",
          "name": "stderr",
          "text": [
            "\n"
          ]
        }
      ],
      "source": [
        "X_test, y_test = next(validation_generator)\n",
        "for i in tqdm.tqdm(range(int(train_generator.n/batch_size)-1)):\n",
        "  img, label = next(train_generator)\n",
        "  X_train = np.append(X_train, img, axis=0 )\n",
        "  y_train = np.append(y_train, label, axis=0)\n",
        "print(X_train.shape, y_train.shape)"
      ]
    },
    {
      "cell_type": "code",
      "execution_count": 234,
      "metadata": {
        "id": "NDPqk8zJzYpA"
      },
      "outputs": [],
      "source": [
        "from keras.preprocessing.image import ImageDataGenerator\n",
        "\n",
        "# Create an ImageDataGenerator with desired augmentation parameters\n",
        "datagen = ImageDataGenerator(\n",
        "    rotation_range=30,\n",
        "    width_shift_range=0.1,\n",
        "    height_shift_range=0.1,\n",
        "    shear_range=0.2,\n",
        "    zoom_range=0.2,\n",
        "    horizontal_flip=True,\n",
        "    fill_mode='nearest'\n",
        ")\n",
        "\n",
        "# Function to apply augmentation twice to each dataset\n",
        "def augment_dataset(dataset):\n",
        "    augmented_data = []\n",
        "    for img in dataset:\n",
        "        img = np.expand_dims(img, axis=0)  # Expanding dimensions for batch size\n",
        "        for _ in range(1):  # Apply augmentation twice\n",
        "            for batch in datagen.flow(img, batch_size=1):\n",
        "                augmented_data.append(np.squeeze(batch))  # Remove the batch dimension\n",
        "                break  # Stop the loop after one augmented image\n",
        "    return np.array(augmented_data)"
      ]
    },
    {
      "cell_type": "code",
      "execution_count": 235,
      "metadata": {
        "id": "PLl2nMHS25fK"
      },
      "outputs": [],
      "source": [
        "# Apply augmentation twice to X_train, X_test, and X_val\n",
        "X_train_augmented = augment_dataset(X_train)\n",
        "X_test_augmented = augment_dataset(X_test)\n",
        "#X_val_augmented = augment_dataset(X_val)\n",
        "y_train_augmented = np.repeat(y_train, 1, axis=0)  # Adjust based on augmentation factor\n",
        "y_test_augmented = np.repeat(y_test, 1, axis=0)  # Adjust based on augmentation factor"
      ]
    },
    {
      "cell_type": "code",
      "execution_count": 236,
      "metadata": {
        "id": "kOEEq-o_R9A3"
      },
      "outputs": [],
      "source": [
        "from sklearn.utils import shuffle\n",
        "\n",
        "# Combine original data with augmented data\n",
        "X_train_combined = np.concatenate((X_train, X_train_augmented))\n",
        "y_train_combined = np.concatenate((y_train, y_train_augmented))\n",
        "\n",
        "X_test_combined = np.concatenate((X_test, X_test_augmented))\n",
        "y_test_combined = np.concatenate((y_test, y_test_augmented))\n",
        "\n",
        "\n",
        "# Shuffle the combined data\n",
        "X_train_combined, y_train_combined = shuffle(X_train_combined, y_train_combined, random_state=42)\n",
        "X_test_combined, y_test_combined = shuffle(X_test_combined, y_test_combined, random_state=42)"
      ]
    },
    {
      "cell_type": "code",
      "execution_count": 237,
      "metadata": {
        "colab": {
          "base_uri": "https://localhost:8080/"
        },
        "id": "xoKFpFWMBPKh",
        "outputId": "ff10de11-cb1a-4a25-d753-c3f4d9538e53"
      },
      "outputs": [
        {
          "output_type": "stream",
          "name": "stdout",
          "text": [
            "0 InputLayer False\n",
            "1 Conv2D False\n",
            "2 BatchNormalization False\n",
            "3 ReLU False\n",
            "4 DepthwiseConv2D False\n",
            "5 BatchNormalization False\n",
            "6 ReLU False\n",
            "7 Conv2D False\n",
            "8 BatchNormalization False\n",
            "9 Conv2D False\n",
            "10 BatchNormalization False\n",
            "11 ReLU False\n",
            "12 ZeroPadding2D False\n",
            "13 DepthwiseConv2D False\n",
            "14 BatchNormalization False\n",
            "15 ReLU False\n",
            "16 Conv2D False\n",
            "17 BatchNormalization False\n",
            "18 Conv2D False\n",
            "19 BatchNormalization False\n",
            "20 ReLU False\n",
            "21 DepthwiseConv2D False\n",
            "22 BatchNormalization False\n",
            "23 ReLU False\n",
            "24 Conv2D False\n",
            "25 BatchNormalization False\n",
            "26 Add False\n",
            "27 Conv2D False\n",
            "28 BatchNormalization False\n",
            "29 ReLU False\n",
            "30 ZeroPadding2D False\n",
            "31 DepthwiseConv2D False\n",
            "32 BatchNormalization False\n",
            "33 ReLU False\n",
            "34 Conv2D False\n",
            "35 BatchNormalization False\n",
            "36 Conv2D False\n",
            "37 BatchNormalization False\n",
            "38 ReLU False\n",
            "39 DepthwiseConv2D False\n",
            "40 BatchNormalization False\n",
            "41 ReLU False\n",
            "42 Conv2D False\n",
            "43 BatchNormalization False\n",
            "44 Add False\n",
            "45 Conv2D False\n",
            "46 BatchNormalization False\n",
            "47 ReLU False\n",
            "48 DepthwiseConv2D False\n",
            "49 BatchNormalization False\n",
            "50 ReLU False\n",
            "51 Conv2D False\n",
            "52 BatchNormalization False\n",
            "53 Add False\n",
            "54 Conv2D False\n",
            "55 BatchNormalization False\n",
            "56 ReLU False\n",
            "57 ZeroPadding2D False\n",
            "58 DepthwiseConv2D False\n",
            "59 BatchNormalization False\n",
            "60 ReLU False\n",
            "61 Conv2D False\n",
            "62 BatchNormalization False\n",
            "63 Conv2D False\n",
            "64 BatchNormalization False\n",
            "65 ReLU False\n",
            "66 DepthwiseConv2D False\n",
            "67 BatchNormalization False\n",
            "68 ReLU False\n",
            "69 Conv2D False\n",
            "70 BatchNormalization False\n",
            "71 Add False\n",
            "72 Conv2D False\n",
            "73 BatchNormalization False\n",
            "74 ReLU False\n",
            "75 DepthwiseConv2D False\n",
            "76 BatchNormalization False\n",
            "77 ReLU False\n",
            "78 Conv2D False\n",
            "79 BatchNormalization False\n",
            "80 Add False\n",
            "81 Conv2D False\n",
            "82 BatchNormalization False\n",
            "83 ReLU False\n",
            "84 DepthwiseConv2D False\n",
            "85 BatchNormalization False\n",
            "86 ReLU False\n",
            "87 Conv2D False\n",
            "88 BatchNormalization False\n",
            "89 Add False\n",
            "90 Conv2D False\n",
            "91 BatchNormalization False\n",
            "92 ReLU False\n",
            "93 DepthwiseConv2D False\n",
            "94 BatchNormalization False\n",
            "95 ReLU False\n",
            "96 Conv2D False\n",
            "97 BatchNormalization False\n",
            "98 Conv2D False\n",
            "99 BatchNormalization False\n",
            "100 ReLU False\n",
            "101 DepthwiseConv2D False\n",
            "102 BatchNormalization False\n",
            "103 ReLU False\n",
            "104 Conv2D False\n",
            "105 BatchNormalization False\n",
            "106 Add False\n",
            "107 Conv2D False\n",
            "108 BatchNormalization False\n",
            "109 ReLU False\n",
            "110 DepthwiseConv2D False\n",
            "111 BatchNormalization False\n",
            "112 ReLU False\n",
            "113 Conv2D False\n",
            "114 BatchNormalization False\n",
            "115 Add False\n",
            "116 Conv2D False\n",
            "117 BatchNormalization False\n",
            "118 ReLU False\n",
            "119 ZeroPadding2D False\n",
            "120 DepthwiseConv2D False\n",
            "121 BatchNormalization False\n",
            "122 ReLU False\n",
            "123 Conv2D False\n",
            "124 BatchNormalization False\n",
            "125 Conv2D False\n",
            "126 BatchNormalization False\n",
            "127 ReLU False\n",
            "128 DepthwiseConv2D False\n",
            "129 BatchNormalization False\n",
            "130 ReLU False\n",
            "131 Conv2D False\n",
            "132 BatchNormalization False\n",
            "133 Add False\n",
            "134 Conv2D False\n",
            "135 BatchNormalization False\n",
            "136 ReLU False\n",
            "137 DepthwiseConv2D False\n",
            "138 BatchNormalization False\n",
            "139 ReLU False\n",
            "140 Conv2D False\n",
            "141 BatchNormalization False\n",
            "142 Add False\n",
            "143 Conv2D False\n",
            "144 BatchNormalization False\n",
            "145 ReLU False\n",
            "146 DepthwiseConv2D False\n",
            "147 BatchNormalization False\n",
            "148 ReLU False\n",
            "149 Conv2D False\n",
            "150 BatchNormalization False\n",
            "151 Conv2D False\n",
            "152 BatchNormalization False\n",
            "153 ReLU False\n"
          ]
        }
      ],
      "source": [
        "\n",
        "\n",
        "img_rows, img_cols = 224, 224\n",
        "\n",
        "mobilenetv2 = MobileNetV2(weights='imagenet', include_top=False, input_shape=(img_rows, img_cols, 3))\n",
        "\n",
        "\n",
        "for layer in mobilenetv2.layers:\n",
        "    layer.trainable = False\n",
        "# Let's print our layers\n",
        "for (i,layer) in enumerate(mobilenetv2.layers):\n",
        "    print(str(i) + \" \"+ layer.__class__.__name__, layer.trainable)"
      ]
    },
    {
      "cell_type": "code",
      "execution_count": 238,
      "metadata": {
        "id": "wlygFrU0BTvK"
      },
      "outputs": [],
      "source": [
        "from keras.models import Sequential\n",
        "from keras.layers import Dense, Dropout, Activation, Flatten, GlobalAveragePooling2D\n",
        "from keras.layers import Conv2D, MaxPooling2D, ZeroPadding2D\n",
        "\n",
        "from keras.models import Model\n",
        "def lw(bottom_model, num_classes):\n",
        "    \"\"\"creates the top or head of the model that will be\n",
        "    placed ontop of the bottom layers\"\"\"\n",
        "\n",
        "    top_model = bottom_model.output\n",
        "    top_model = GlobalAveragePooling2D()(top_model)\n",
        "    top_model = Dense(1024,activation='relu')(top_model)\n",
        "    top_model = Dropout(0.1)(top_model)\n",
        "    top_model = Dense(1024,activation='relu')(top_model)\n",
        "    top_model = Dropout(0.1)(top_model)\n",
        "    top_model = Dense(1024,activation='relu')(top_model)\n",
        "    top_model = Dropout(0.1)(top_model)\n",
        "    top_model = Dense(num_classes,activation='sigmoid')(top_model)\n",
        "    return top_model"
      ]
    },
    {
      "cell_type": "code",
      "execution_count": 239,
      "metadata": {
        "id": "AG2XjxiZFE0v"
      },
      "outputs": [],
      "source": [
        "from keras.models import Sequential\n",
        "from keras.layers import Dense, Dropout, Activation, Flatten, GlobalAveragePooling2D\n",
        "from keras.layers import Conv2D, MaxPooling2D, ZeroPadding2D\n",
        "\n",
        "from keras.models import Model\n",
        "\n",
        "\n",
        "num_classes = 2\n",
        "\n",
        "FC_Head = lw(mobilenetv2, num_classes)\n",
        "\n",
        "\n",
        "model = Model(inputs = mobilenetv2.input, outputs = FC_Head)"
      ]
    },
    {
      "cell_type": "code",
      "source": [
        "print(model.summary())"
      ],
      "metadata": {
        "colab": {
          "base_uri": "https://localhost:8080/"
        },
        "id": "tETfOhyG8DaG",
        "outputId": "09c2d6dd-36df-44c8-e40c-671fc5905eb1"
      },
      "execution_count": 240,
      "outputs": [
        {
          "output_type": "stream",
          "name": "stdout",
          "text": [
            "Model: \"model_13\"\n",
            "__________________________________________________________________________________________________\n",
            " Layer (type)                Output Shape                 Param #   Connected to                  \n",
            "==================================================================================================\n",
            " input_19 (InputLayer)       [(None, 224, 224, 3)]        0         []                            \n",
            "                                                                                                  \n",
            " Conv1 (Conv2D)              (None, 112, 112, 32)         864       ['input_19[0][0]']            \n",
            "                                                                                                  \n",
            " bn_Conv1 (BatchNormalizati  (None, 112, 112, 32)         128       ['Conv1[0][0]']               \n",
            " on)                                                                                              \n",
            "                                                                                                  \n",
            " Conv1_relu (ReLU)           (None, 112, 112, 32)         0         ['bn_Conv1[0][0]']            \n",
            "                                                                                                  \n",
            " expanded_conv_depthwise (D  (None, 112, 112, 32)         288       ['Conv1_relu[0][0]']          \n",
            " epthwiseConv2D)                                                                                  \n",
            "                                                                                                  \n",
            " expanded_conv_depthwise_BN  (None, 112, 112, 32)         128       ['expanded_conv_depthwise[0][0\n",
            "  (BatchNormalization)                                              ]']                           \n",
            "                                                                                                  \n",
            " expanded_conv_depthwise_re  (None, 112, 112, 32)         0         ['expanded_conv_depthwise_BN[0\n",
            " lu (ReLU)                                                          ][0]']                        \n",
            "                                                                                                  \n",
            " expanded_conv_project (Con  (None, 112, 112, 16)         512       ['expanded_conv_depthwise_relu\n",
            " v2D)                                                               [0][0]']                      \n",
            "                                                                                                  \n",
            " expanded_conv_project_BN (  (None, 112, 112, 16)         64        ['expanded_conv_project[0][0]'\n",
            " BatchNormalization)                                                ]                             \n",
            "                                                                                                  \n",
            " block_1_expand (Conv2D)     (None, 112, 112, 96)         1536      ['expanded_conv_project_BN[0][\n",
            "                                                                    0]']                          \n",
            "                                                                                                  \n",
            " block_1_expand_BN (BatchNo  (None, 112, 112, 96)         384       ['block_1_expand[0][0]']      \n",
            " rmalization)                                                                                     \n",
            "                                                                                                  \n",
            " block_1_expand_relu (ReLU)  (None, 112, 112, 96)         0         ['block_1_expand_BN[0][0]']   \n",
            "                                                                                                  \n",
            " block_1_pad (ZeroPadding2D  (None, 113, 113, 96)         0         ['block_1_expand_relu[0][0]'] \n",
            " )                                                                                                \n",
            "                                                                                                  \n",
            " block_1_depthwise (Depthwi  (None, 56, 56, 96)           864       ['block_1_pad[0][0]']         \n",
            " seConv2D)                                                                                        \n",
            "                                                                                                  \n",
            " block_1_depthwise_BN (Batc  (None, 56, 56, 96)           384       ['block_1_depthwise[0][0]']   \n",
            " hNormalization)                                                                                  \n",
            "                                                                                                  \n",
            " block_1_depthwise_relu (Re  (None, 56, 56, 96)           0         ['block_1_depthwise_BN[0][0]']\n",
            " LU)                                                                                              \n",
            "                                                                                                  \n",
            " block_1_project (Conv2D)    (None, 56, 56, 24)           2304      ['block_1_depthwise_relu[0][0]\n",
            "                                                                    ']                            \n",
            "                                                                                                  \n",
            " block_1_project_BN (BatchN  (None, 56, 56, 24)           96        ['block_1_project[0][0]']     \n",
            " ormalization)                                                                                    \n",
            "                                                                                                  \n",
            " block_2_expand (Conv2D)     (None, 56, 56, 144)          3456      ['block_1_project_BN[0][0]']  \n",
            "                                                                                                  \n",
            " block_2_expand_BN (BatchNo  (None, 56, 56, 144)          576       ['block_2_expand[0][0]']      \n",
            " rmalization)                                                                                     \n",
            "                                                                                                  \n",
            " block_2_expand_relu (ReLU)  (None, 56, 56, 144)          0         ['block_2_expand_BN[0][0]']   \n",
            "                                                                                                  \n",
            " block_2_depthwise (Depthwi  (None, 56, 56, 144)          1296      ['block_2_expand_relu[0][0]'] \n",
            " seConv2D)                                                                                        \n",
            "                                                                                                  \n",
            " block_2_depthwise_BN (Batc  (None, 56, 56, 144)          576       ['block_2_depthwise[0][0]']   \n",
            " hNormalization)                                                                                  \n",
            "                                                                                                  \n",
            " block_2_depthwise_relu (Re  (None, 56, 56, 144)          0         ['block_2_depthwise_BN[0][0]']\n",
            " LU)                                                                                              \n",
            "                                                                                                  \n",
            " block_2_project (Conv2D)    (None, 56, 56, 24)           3456      ['block_2_depthwise_relu[0][0]\n",
            "                                                                    ']                            \n",
            "                                                                                                  \n",
            " block_2_project_BN (BatchN  (None, 56, 56, 24)           96        ['block_2_project[0][0]']     \n",
            " ormalization)                                                                                    \n",
            "                                                                                                  \n",
            " block_2_add (Add)           (None, 56, 56, 24)           0         ['block_1_project_BN[0][0]',  \n",
            "                                                                     'block_2_project_BN[0][0]']  \n",
            "                                                                                                  \n",
            " block_3_expand (Conv2D)     (None, 56, 56, 144)          3456      ['block_2_add[0][0]']         \n",
            "                                                                                                  \n",
            " block_3_expand_BN (BatchNo  (None, 56, 56, 144)          576       ['block_3_expand[0][0]']      \n",
            " rmalization)                                                                                     \n",
            "                                                                                                  \n",
            " block_3_expand_relu (ReLU)  (None, 56, 56, 144)          0         ['block_3_expand_BN[0][0]']   \n",
            "                                                                                                  \n",
            " block_3_pad (ZeroPadding2D  (None, 57, 57, 144)          0         ['block_3_expand_relu[0][0]'] \n",
            " )                                                                                                \n",
            "                                                                                                  \n",
            " block_3_depthwise (Depthwi  (None, 28, 28, 144)          1296      ['block_3_pad[0][0]']         \n",
            " seConv2D)                                                                                        \n",
            "                                                                                                  \n",
            " block_3_depthwise_BN (Batc  (None, 28, 28, 144)          576       ['block_3_depthwise[0][0]']   \n",
            " hNormalization)                                                                                  \n",
            "                                                                                                  \n",
            " block_3_depthwise_relu (Re  (None, 28, 28, 144)          0         ['block_3_depthwise_BN[0][0]']\n",
            " LU)                                                                                              \n",
            "                                                                                                  \n",
            " block_3_project (Conv2D)    (None, 28, 28, 32)           4608      ['block_3_depthwise_relu[0][0]\n",
            "                                                                    ']                            \n",
            "                                                                                                  \n",
            " block_3_project_BN (BatchN  (None, 28, 28, 32)           128       ['block_3_project[0][0]']     \n",
            " ormalization)                                                                                    \n",
            "                                                                                                  \n",
            " block_4_expand (Conv2D)     (None, 28, 28, 192)          6144      ['block_3_project_BN[0][0]']  \n",
            "                                                                                                  \n",
            " block_4_expand_BN (BatchNo  (None, 28, 28, 192)          768       ['block_4_expand[0][0]']      \n",
            " rmalization)                                                                                     \n",
            "                                                                                                  \n",
            " block_4_expand_relu (ReLU)  (None, 28, 28, 192)          0         ['block_4_expand_BN[0][0]']   \n",
            "                                                                                                  \n",
            " block_4_depthwise (Depthwi  (None, 28, 28, 192)          1728      ['block_4_expand_relu[0][0]'] \n",
            " seConv2D)                                                                                        \n",
            "                                                                                                  \n",
            " block_4_depthwise_BN (Batc  (None, 28, 28, 192)          768       ['block_4_depthwise[0][0]']   \n",
            " hNormalization)                                                                                  \n",
            "                                                                                                  \n",
            " block_4_depthwise_relu (Re  (None, 28, 28, 192)          0         ['block_4_depthwise_BN[0][0]']\n",
            " LU)                                                                                              \n",
            "                                                                                                  \n",
            " block_4_project (Conv2D)    (None, 28, 28, 32)           6144      ['block_4_depthwise_relu[0][0]\n",
            "                                                                    ']                            \n",
            "                                                                                                  \n",
            " block_4_project_BN (BatchN  (None, 28, 28, 32)           128       ['block_4_project[0][0]']     \n",
            " ormalization)                                                                                    \n",
            "                                                                                                  \n",
            " block_4_add (Add)           (None, 28, 28, 32)           0         ['block_3_project_BN[0][0]',  \n",
            "                                                                     'block_4_project_BN[0][0]']  \n",
            "                                                                                                  \n",
            " block_5_expand (Conv2D)     (None, 28, 28, 192)          6144      ['block_4_add[0][0]']         \n",
            "                                                                                                  \n",
            " block_5_expand_BN (BatchNo  (None, 28, 28, 192)          768       ['block_5_expand[0][0]']      \n",
            " rmalization)                                                                                     \n",
            "                                                                                                  \n",
            " block_5_expand_relu (ReLU)  (None, 28, 28, 192)          0         ['block_5_expand_BN[0][0]']   \n",
            "                                                                                                  \n",
            " block_5_depthwise (Depthwi  (None, 28, 28, 192)          1728      ['block_5_expand_relu[0][0]'] \n",
            " seConv2D)                                                                                        \n",
            "                                                                                                  \n",
            " block_5_depthwise_BN (Batc  (None, 28, 28, 192)          768       ['block_5_depthwise[0][0]']   \n",
            " hNormalization)                                                                                  \n",
            "                                                                                                  \n",
            " block_5_depthwise_relu (Re  (None, 28, 28, 192)          0         ['block_5_depthwise_BN[0][0]']\n",
            " LU)                                                                                              \n",
            "                                                                                                  \n",
            " block_5_project (Conv2D)    (None, 28, 28, 32)           6144      ['block_5_depthwise_relu[0][0]\n",
            "                                                                    ']                            \n",
            "                                                                                                  \n",
            " block_5_project_BN (BatchN  (None, 28, 28, 32)           128       ['block_5_project[0][0]']     \n",
            " ormalization)                                                                                    \n",
            "                                                                                                  \n",
            " block_5_add (Add)           (None, 28, 28, 32)           0         ['block_4_add[0][0]',         \n",
            "                                                                     'block_5_project_BN[0][0]']  \n",
            "                                                                                                  \n",
            " block_6_expand (Conv2D)     (None, 28, 28, 192)          6144      ['block_5_add[0][0]']         \n",
            "                                                                                                  \n",
            " block_6_expand_BN (BatchNo  (None, 28, 28, 192)          768       ['block_6_expand[0][0]']      \n",
            " rmalization)                                                                                     \n",
            "                                                                                                  \n",
            " block_6_expand_relu (ReLU)  (None, 28, 28, 192)          0         ['block_6_expand_BN[0][0]']   \n",
            "                                                                                                  \n",
            " block_6_pad (ZeroPadding2D  (None, 29, 29, 192)          0         ['block_6_expand_relu[0][0]'] \n",
            " )                                                                                                \n",
            "                                                                                                  \n",
            " block_6_depthwise (Depthwi  (None, 14, 14, 192)          1728      ['block_6_pad[0][0]']         \n",
            " seConv2D)                                                                                        \n",
            "                                                                                                  \n",
            " block_6_depthwise_BN (Batc  (None, 14, 14, 192)          768       ['block_6_depthwise[0][0]']   \n",
            " hNormalization)                                                                                  \n",
            "                                                                                                  \n",
            " block_6_depthwise_relu (Re  (None, 14, 14, 192)          0         ['block_6_depthwise_BN[0][0]']\n",
            " LU)                                                                                              \n",
            "                                                                                                  \n",
            " block_6_project (Conv2D)    (None, 14, 14, 64)           12288     ['block_6_depthwise_relu[0][0]\n",
            "                                                                    ']                            \n",
            "                                                                                                  \n",
            " block_6_project_BN (BatchN  (None, 14, 14, 64)           256       ['block_6_project[0][0]']     \n",
            " ormalization)                                                                                    \n",
            "                                                                                                  \n",
            " block_7_expand (Conv2D)     (None, 14, 14, 384)          24576     ['block_6_project_BN[0][0]']  \n",
            "                                                                                                  \n",
            " block_7_expand_BN (BatchNo  (None, 14, 14, 384)          1536      ['block_7_expand[0][0]']      \n",
            " rmalization)                                                                                     \n",
            "                                                                                                  \n",
            " block_7_expand_relu (ReLU)  (None, 14, 14, 384)          0         ['block_7_expand_BN[0][0]']   \n",
            "                                                                                                  \n",
            " block_7_depthwise (Depthwi  (None, 14, 14, 384)          3456      ['block_7_expand_relu[0][0]'] \n",
            " seConv2D)                                                                                        \n",
            "                                                                                                  \n",
            " block_7_depthwise_BN (Batc  (None, 14, 14, 384)          1536      ['block_7_depthwise[0][0]']   \n",
            " hNormalization)                                                                                  \n",
            "                                                                                                  \n",
            " block_7_depthwise_relu (Re  (None, 14, 14, 384)          0         ['block_7_depthwise_BN[0][0]']\n",
            " LU)                                                                                              \n",
            "                                                                                                  \n",
            " block_7_project (Conv2D)    (None, 14, 14, 64)           24576     ['block_7_depthwise_relu[0][0]\n",
            "                                                                    ']                            \n",
            "                                                                                                  \n",
            " block_7_project_BN (BatchN  (None, 14, 14, 64)           256       ['block_7_project[0][0]']     \n",
            " ormalization)                                                                                    \n",
            "                                                                                                  \n",
            " block_7_add (Add)           (None, 14, 14, 64)           0         ['block_6_project_BN[0][0]',  \n",
            "                                                                     'block_7_project_BN[0][0]']  \n",
            "                                                                                                  \n",
            " block_8_expand (Conv2D)     (None, 14, 14, 384)          24576     ['block_7_add[0][0]']         \n",
            "                                                                                                  \n",
            " block_8_expand_BN (BatchNo  (None, 14, 14, 384)          1536      ['block_8_expand[0][0]']      \n",
            " rmalization)                                                                                     \n",
            "                                                                                                  \n",
            " block_8_expand_relu (ReLU)  (None, 14, 14, 384)          0         ['block_8_expand_BN[0][0]']   \n",
            "                                                                                                  \n",
            " block_8_depthwise (Depthwi  (None, 14, 14, 384)          3456      ['block_8_expand_relu[0][0]'] \n",
            " seConv2D)                                                                                        \n",
            "                                                                                                  \n",
            " block_8_depthwise_BN (Batc  (None, 14, 14, 384)          1536      ['block_8_depthwise[0][0]']   \n",
            " hNormalization)                                                                                  \n",
            "                                                                                                  \n",
            " block_8_depthwise_relu (Re  (None, 14, 14, 384)          0         ['block_8_depthwise_BN[0][0]']\n",
            " LU)                                                                                              \n",
            "                                                                                                  \n",
            " block_8_project (Conv2D)    (None, 14, 14, 64)           24576     ['block_8_depthwise_relu[0][0]\n",
            "                                                                    ']                            \n",
            "                                                                                                  \n",
            " block_8_project_BN (BatchN  (None, 14, 14, 64)           256       ['block_8_project[0][0]']     \n",
            " ormalization)                                                                                    \n",
            "                                                                                                  \n",
            " block_8_add (Add)           (None, 14, 14, 64)           0         ['block_7_add[0][0]',         \n",
            "                                                                     'block_8_project_BN[0][0]']  \n",
            "                                                                                                  \n",
            " block_9_expand (Conv2D)     (None, 14, 14, 384)          24576     ['block_8_add[0][0]']         \n",
            "                                                                                                  \n",
            " block_9_expand_BN (BatchNo  (None, 14, 14, 384)          1536      ['block_9_expand[0][0]']      \n",
            " rmalization)                                                                                     \n",
            "                                                                                                  \n",
            " block_9_expand_relu (ReLU)  (None, 14, 14, 384)          0         ['block_9_expand_BN[0][0]']   \n",
            "                                                                                                  \n",
            " block_9_depthwise (Depthwi  (None, 14, 14, 384)          3456      ['block_9_expand_relu[0][0]'] \n",
            " seConv2D)                                                                                        \n",
            "                                                                                                  \n",
            " block_9_depthwise_BN (Batc  (None, 14, 14, 384)          1536      ['block_9_depthwise[0][0]']   \n",
            " hNormalization)                                                                                  \n",
            "                                                                                                  \n",
            " block_9_depthwise_relu (Re  (None, 14, 14, 384)          0         ['block_9_depthwise_BN[0][0]']\n",
            " LU)                                                                                              \n",
            "                                                                                                  \n",
            " block_9_project (Conv2D)    (None, 14, 14, 64)           24576     ['block_9_depthwise_relu[0][0]\n",
            "                                                                    ']                            \n",
            "                                                                                                  \n",
            " block_9_project_BN (BatchN  (None, 14, 14, 64)           256       ['block_9_project[0][0]']     \n",
            " ormalization)                                                                                    \n",
            "                                                                                                  \n",
            " block_9_add (Add)           (None, 14, 14, 64)           0         ['block_8_add[0][0]',         \n",
            "                                                                     'block_9_project_BN[0][0]']  \n",
            "                                                                                                  \n",
            " block_10_expand (Conv2D)    (None, 14, 14, 384)          24576     ['block_9_add[0][0]']         \n",
            "                                                                                                  \n",
            " block_10_expand_BN (BatchN  (None, 14, 14, 384)          1536      ['block_10_expand[0][0]']     \n",
            " ormalization)                                                                                    \n",
            "                                                                                                  \n",
            " block_10_expand_relu (ReLU  (None, 14, 14, 384)          0         ['block_10_expand_BN[0][0]']  \n",
            " )                                                                                                \n",
            "                                                                                                  \n",
            " block_10_depthwise (Depthw  (None, 14, 14, 384)          3456      ['block_10_expand_relu[0][0]']\n",
            " iseConv2D)                                                                                       \n",
            "                                                                                                  \n",
            " block_10_depthwise_BN (Bat  (None, 14, 14, 384)          1536      ['block_10_depthwise[0][0]']  \n",
            " chNormalization)                                                                                 \n",
            "                                                                                                  \n",
            " block_10_depthwise_relu (R  (None, 14, 14, 384)          0         ['block_10_depthwise_BN[0][0]'\n",
            " eLU)                                                               ]                             \n",
            "                                                                                                  \n",
            " block_10_project (Conv2D)   (None, 14, 14, 96)           36864     ['block_10_depthwise_relu[0][0\n",
            "                                                                    ]']                           \n",
            "                                                                                                  \n",
            " block_10_project_BN (Batch  (None, 14, 14, 96)           384       ['block_10_project[0][0]']    \n",
            " Normalization)                                                                                   \n",
            "                                                                                                  \n",
            " block_11_expand (Conv2D)    (None, 14, 14, 576)          55296     ['block_10_project_BN[0][0]'] \n",
            "                                                                                                  \n",
            " block_11_expand_BN (BatchN  (None, 14, 14, 576)          2304      ['block_11_expand[0][0]']     \n",
            " ormalization)                                                                                    \n",
            "                                                                                                  \n",
            " block_11_expand_relu (ReLU  (None, 14, 14, 576)          0         ['block_11_expand_BN[0][0]']  \n",
            " )                                                                                                \n",
            "                                                                                                  \n",
            " block_11_depthwise (Depthw  (None, 14, 14, 576)          5184      ['block_11_expand_relu[0][0]']\n",
            " iseConv2D)                                                                                       \n",
            "                                                                                                  \n",
            " block_11_depthwise_BN (Bat  (None, 14, 14, 576)          2304      ['block_11_depthwise[0][0]']  \n",
            " chNormalization)                                                                                 \n",
            "                                                                                                  \n",
            " block_11_depthwise_relu (R  (None, 14, 14, 576)          0         ['block_11_depthwise_BN[0][0]'\n",
            " eLU)                                                               ]                             \n",
            "                                                                                                  \n",
            " block_11_project (Conv2D)   (None, 14, 14, 96)           55296     ['block_11_depthwise_relu[0][0\n",
            "                                                                    ]']                           \n",
            "                                                                                                  \n",
            " block_11_project_BN (Batch  (None, 14, 14, 96)           384       ['block_11_project[0][0]']    \n",
            " Normalization)                                                                                   \n",
            "                                                                                                  \n",
            " block_11_add (Add)          (None, 14, 14, 96)           0         ['block_10_project_BN[0][0]', \n",
            "                                                                     'block_11_project_BN[0][0]'] \n",
            "                                                                                                  \n",
            " block_12_expand (Conv2D)    (None, 14, 14, 576)          55296     ['block_11_add[0][0]']        \n",
            "                                                                                                  \n",
            " block_12_expand_BN (BatchN  (None, 14, 14, 576)          2304      ['block_12_expand[0][0]']     \n",
            " ormalization)                                                                                    \n",
            "                                                                                                  \n",
            " block_12_expand_relu (ReLU  (None, 14, 14, 576)          0         ['block_12_expand_BN[0][0]']  \n",
            " )                                                                                                \n",
            "                                                                                                  \n",
            " block_12_depthwise (Depthw  (None, 14, 14, 576)          5184      ['block_12_expand_relu[0][0]']\n",
            " iseConv2D)                                                                                       \n",
            "                                                                                                  \n",
            " block_12_depthwise_BN (Bat  (None, 14, 14, 576)          2304      ['block_12_depthwise[0][0]']  \n",
            " chNormalization)                                                                                 \n",
            "                                                                                                  \n",
            " block_12_depthwise_relu (R  (None, 14, 14, 576)          0         ['block_12_depthwise_BN[0][0]'\n",
            " eLU)                                                               ]                             \n",
            "                                                                                                  \n",
            " block_12_project (Conv2D)   (None, 14, 14, 96)           55296     ['block_12_depthwise_relu[0][0\n",
            "                                                                    ]']                           \n",
            "                                                                                                  \n",
            " block_12_project_BN (Batch  (None, 14, 14, 96)           384       ['block_12_project[0][0]']    \n",
            " Normalization)                                                                                   \n",
            "                                                                                                  \n",
            " block_12_add (Add)          (None, 14, 14, 96)           0         ['block_11_add[0][0]',        \n",
            "                                                                     'block_12_project_BN[0][0]'] \n",
            "                                                                                                  \n",
            " block_13_expand (Conv2D)    (None, 14, 14, 576)          55296     ['block_12_add[0][0]']        \n",
            "                                                                                                  \n",
            " block_13_expand_BN (BatchN  (None, 14, 14, 576)          2304      ['block_13_expand[0][0]']     \n",
            " ormalization)                                                                                    \n",
            "                                                                                                  \n",
            " block_13_expand_relu (ReLU  (None, 14, 14, 576)          0         ['block_13_expand_BN[0][0]']  \n",
            " )                                                                                                \n",
            "                                                                                                  \n",
            " block_13_pad (ZeroPadding2  (None, 15, 15, 576)          0         ['block_13_expand_relu[0][0]']\n",
            " D)                                                                                               \n",
            "                                                                                                  \n",
            " block_13_depthwise (Depthw  (None, 7, 7, 576)            5184      ['block_13_pad[0][0]']        \n",
            " iseConv2D)                                                                                       \n",
            "                                                                                                  \n",
            " block_13_depthwise_BN (Bat  (None, 7, 7, 576)            2304      ['block_13_depthwise[0][0]']  \n",
            " chNormalization)                                                                                 \n",
            "                                                                                                  \n",
            " block_13_depthwise_relu (R  (None, 7, 7, 576)            0         ['block_13_depthwise_BN[0][0]'\n",
            " eLU)                                                               ]                             \n",
            "                                                                                                  \n",
            " block_13_project (Conv2D)   (None, 7, 7, 160)            92160     ['block_13_depthwise_relu[0][0\n",
            "                                                                    ]']                           \n",
            "                                                                                                  \n",
            " block_13_project_BN (Batch  (None, 7, 7, 160)            640       ['block_13_project[0][0]']    \n",
            " Normalization)                                                                                   \n",
            "                                                                                                  \n",
            " block_14_expand (Conv2D)    (None, 7, 7, 960)            153600    ['block_13_project_BN[0][0]'] \n",
            "                                                                                                  \n",
            " block_14_expand_BN (BatchN  (None, 7, 7, 960)            3840      ['block_14_expand[0][0]']     \n",
            " ormalization)                                                                                    \n",
            "                                                                                                  \n",
            " block_14_expand_relu (ReLU  (None, 7, 7, 960)            0         ['block_14_expand_BN[0][0]']  \n",
            " )                                                                                                \n",
            "                                                                                                  \n",
            " block_14_depthwise (Depthw  (None, 7, 7, 960)            8640      ['block_14_expand_relu[0][0]']\n",
            " iseConv2D)                                                                                       \n",
            "                                                                                                  \n",
            " block_14_depthwise_BN (Bat  (None, 7, 7, 960)            3840      ['block_14_depthwise[0][0]']  \n",
            " chNormalization)                                                                                 \n",
            "                                                                                                  \n",
            " block_14_depthwise_relu (R  (None, 7, 7, 960)            0         ['block_14_depthwise_BN[0][0]'\n",
            " eLU)                                                               ]                             \n",
            "                                                                                                  \n",
            " block_14_project (Conv2D)   (None, 7, 7, 160)            153600    ['block_14_depthwise_relu[0][0\n",
            "                                                                    ]']                           \n",
            "                                                                                                  \n",
            " block_14_project_BN (Batch  (None, 7, 7, 160)            640       ['block_14_project[0][0]']    \n",
            " Normalization)                                                                                   \n",
            "                                                                                                  \n",
            " block_14_add (Add)          (None, 7, 7, 160)            0         ['block_13_project_BN[0][0]', \n",
            "                                                                     'block_14_project_BN[0][0]'] \n",
            "                                                                                                  \n",
            " block_15_expand (Conv2D)    (None, 7, 7, 960)            153600    ['block_14_add[0][0]']        \n",
            "                                                                                                  \n",
            " block_15_expand_BN (BatchN  (None, 7, 7, 960)            3840      ['block_15_expand[0][0]']     \n",
            " ormalization)                                                                                    \n",
            "                                                                                                  \n",
            " block_15_expand_relu (ReLU  (None, 7, 7, 960)            0         ['block_15_expand_BN[0][0]']  \n",
            " )                                                                                                \n",
            "                                                                                                  \n",
            " block_15_depthwise (Depthw  (None, 7, 7, 960)            8640      ['block_15_expand_relu[0][0]']\n",
            " iseConv2D)                                                                                       \n",
            "                                                                                                  \n",
            " block_15_depthwise_BN (Bat  (None, 7, 7, 960)            3840      ['block_15_depthwise[0][0]']  \n",
            " chNormalization)                                                                                 \n",
            "                                                                                                  \n",
            " block_15_depthwise_relu (R  (None, 7, 7, 960)            0         ['block_15_depthwise_BN[0][0]'\n",
            " eLU)                                                               ]                             \n",
            "                                                                                                  \n",
            " block_15_project (Conv2D)   (None, 7, 7, 160)            153600    ['block_15_depthwise_relu[0][0\n",
            "                                                                    ]']                           \n",
            "                                                                                                  \n",
            " block_15_project_BN (Batch  (None, 7, 7, 160)            640       ['block_15_project[0][0]']    \n",
            " Normalization)                                                                                   \n",
            "                                                                                                  \n",
            " block_15_add (Add)          (None, 7, 7, 160)            0         ['block_14_add[0][0]',        \n",
            "                                                                     'block_15_project_BN[0][0]'] \n",
            "                                                                                                  \n",
            " block_16_expand (Conv2D)    (None, 7, 7, 960)            153600    ['block_15_add[0][0]']        \n",
            "                                                                                                  \n",
            " block_16_expand_BN (BatchN  (None, 7, 7, 960)            3840      ['block_16_expand[0][0]']     \n",
            " ormalization)                                                                                    \n",
            "                                                                                                  \n",
            " block_16_expand_relu (ReLU  (None, 7, 7, 960)            0         ['block_16_expand_BN[0][0]']  \n",
            " )                                                                                                \n",
            "                                                                                                  \n",
            " block_16_depthwise (Depthw  (None, 7, 7, 960)            8640      ['block_16_expand_relu[0][0]']\n",
            " iseConv2D)                                                                                       \n",
            "                                                                                                  \n",
            " block_16_depthwise_BN (Bat  (None, 7, 7, 960)            3840      ['block_16_depthwise[0][0]']  \n",
            " chNormalization)                                                                                 \n",
            "                                                                                                  \n",
            " block_16_depthwise_relu (R  (None, 7, 7, 960)            0         ['block_16_depthwise_BN[0][0]'\n",
            " eLU)                                                               ]                             \n",
            "                                                                                                  \n",
            " block_16_project (Conv2D)   (None, 7, 7, 320)            307200    ['block_16_depthwise_relu[0][0\n",
            "                                                                    ]']                           \n",
            "                                                                                                  \n",
            " block_16_project_BN (Batch  (None, 7, 7, 320)            1280      ['block_16_project[0][0]']    \n",
            " Normalization)                                                                                   \n",
            "                                                                                                  \n",
            " Conv_1 (Conv2D)             (None, 7, 7, 1280)           409600    ['block_16_project_BN[0][0]'] \n",
            "                                                                                                  \n",
            " Conv_1_bn (BatchNormalizat  (None, 7, 7, 1280)           5120      ['Conv_1[0][0]']              \n",
            " ion)                                                                                             \n",
            "                                                                                                  \n",
            " out_relu (ReLU)             (None, 7, 7, 1280)           0         ['Conv_1_bn[0][0]']           \n",
            "                                                                                                  \n",
            " global_average_pooling2d_1  (None, 1280)                 0         ['out_relu[0][0]']            \n",
            " 3 (GlobalAveragePooling2D)                                                                       \n",
            "                                                                                                  \n",
            " dense_52 (Dense)            (None, 1024)                 1311744   ['global_average_pooling2d_13[\n",
            "                                                                    0][0]']                       \n",
            "                                                                                                  \n",
            " dropout_39 (Dropout)        (None, 1024)                 0         ['dense_52[0][0]']            \n",
            "                                                                                                  \n",
            " dense_53 (Dense)            (None, 1024)                 1049600   ['dropout_39[0][0]']          \n",
            "                                                                                                  \n",
            " dropout_40 (Dropout)        (None, 1024)                 0         ['dense_53[0][0]']            \n",
            "                                                                                                  \n",
            " dense_54 (Dense)            (None, 1024)                 1049600   ['dropout_40[0][0]']          \n",
            "                                                                                                  \n",
            " dropout_41 (Dropout)        (None, 1024)                 0         ['dense_54[0][0]']            \n",
            "                                                                                                  \n",
            " dense_55 (Dense)            (None, 2)                    2050      ['dropout_41[0][0]']          \n",
            "                                                                                                  \n",
            "==================================================================================================\n",
            "Total params: 5670978 (21.63 MB)\n",
            "Trainable params: 3412994 (13.02 MB)\n",
            "Non-trainable params: 2257984 (8.61 MB)\n",
            "__________________________________________________________________________________________________\n",
            "None\n"
          ]
        }
      ]
    },
    {
      "cell_type": "code",
      "source": [
        "from keras.models import Model\n",
        "import tensorflow as tf\n",
        "from keras import backend as K\n",
        "metrics = [\n",
        "        'accuracy',\n",
        "        tf.keras.metrics.AUC(),\n",
        "        tf.keras.metrics.Recall(),\n",
        "        tf.keras.metrics.Precision(),\n",
        "        tf.keras.metrics.F1Score(),\n",
        "        tf.keras.metrics.SpecificityAtSensitivity(0.5),\n",
        "        tf.keras.metrics.SensitivityAtSpecificity(0.5),\n",
        "        tf.keras.metrics.FalseNegatives(),\n",
        "        tf.keras.metrics.FalsePositives(),\n",
        "        tf.keras.metrics.TrueNegatives(),\n",
        "        tf.keras.metrics.TruePositives(),]"
      ],
      "metadata": {
        "id": "rkDXHb_R8T14"
      },
      "execution_count": 241,
      "outputs": []
    },
    {
      "cell_type": "code",
      "source": [
        "model.compile(optimizer = tf.keras.optimizers.Adam(learning_rate=0.1), loss = 'binary_crossentropy',metrics = metrics)"
      ],
      "metadata": {
        "id": "6b9LS5g_8W-2"
      },
      "execution_count": 242,
      "outputs": []
    },
    {
      "cell_type": "code",
      "source": [
        "callbacks = [\n",
        "    tf.keras.callbacks.EarlyStopping(\n",
        "    monitor='val_loss',patience=3,\n",
        "         restore_best_weights=True,\n",
        "    )\n",
        "]\n",
        "history = model.fit(X_train_combined, y_train_combined, epochs=50,batch_size=32,validation_split=0.4,callbacks=callbacks)"
      ],
      "metadata": {
        "colab": {
          "base_uri": "https://localhost:8080/"
        },
        "id": "noRhwwmy8gD6",
        "outputId": "e32bd287-b662-4282-82fd-fd3d7fc970f0"
      },
      "execution_count": 243,
      "outputs": [
        {
          "output_type": "stream",
          "name": "stdout",
          "text": [
            "Epoch 1/50\n",
            "4/4 [==============================] - 15s 3s/step - loss: 215766.0938 - accuracy: 0.6000 - auc_12: 0.5964 - recall_12: 0.5900 - precision_12: 0.5842 - f1_score: 0.5797 - specificity_at_sensitivity_12: 0.6200 - sensitivity_at_specificity_12: 0.7000 - false_negatives_12: 41.0000 - false_positives_12: 42.0000 - true_negatives_12: 58.0000 - true_positives_12: 59.0000 - val_loss: 48200.0156 - val_accuracy: 0.2206 - val_auc_12: 0.3015 - val_recall_12: 0.2206 - val_precision_12: 0.2632 - val_f1_score: 0.1807 - val_specificity_at_sensitivity_12: 0.0000e+00 - val_sensitivity_at_specificity_12: 0.0000e+00 - val_false_negatives_12: 53.0000 - val_false_positives_12: 42.0000 - val_true_negatives_12: 26.0000 - val_true_positives_12: 15.0000\n",
            "Epoch 2/50\n",
            "4/4 [==============================] - 6s 2s/step - loss: 17171.1875 - accuracy: 0.5700 - auc_12: 0.6150 - recall_12: 0.5700 - precision_12: 0.6264 - f1_score: 0.5953 - specificity_at_sensitivity_12: 0.6600 - sensitivity_at_specificity_12: 0.5700 - false_negatives_12: 43.0000 - false_positives_12: 34.0000 - true_negatives_12: 66.0000 - true_positives_12: 57.0000 - val_loss: 0.0000e+00 - val_accuracy: 1.0000 - val_auc_12: 1.0000 - val_recall_12: 1.0000 - val_precision_12: 1.0000 - val_f1_score: 1.0000 - val_specificity_at_sensitivity_12: 1.0000 - val_sensitivity_at_specificity_12: 1.0000 - val_false_negatives_12: 0.0000e+00 - val_false_positives_12: 0.0000e+00 - val_true_negatives_12: 68.0000 - val_true_positives_12: 68.0000\n",
            "Epoch 3/50\n",
            "4/4 [==============================] - 8s 2s/step - loss: 10392.5791 - accuracy: 0.7400 - auc_12: 0.7300 - recall_12: 0.7400 - precision_12: 0.7255 - f1_score: 0.7314 - specificity_at_sensitivity_12: 0.7200 - sensitivity_at_specificity_12: 0.7400 - false_negatives_12: 26.0000 - false_positives_12: 28.0000 - true_negatives_12: 72.0000 - true_positives_12: 74.0000 - val_loss: 0.0000e+00 - val_accuracy: 1.0000 - val_auc_12: 1.0000 - val_recall_12: 1.0000 - val_precision_12: 1.0000 - val_f1_score: 1.0000 - val_specificity_at_sensitivity_12: 1.0000 - val_sensitivity_at_specificity_12: 1.0000 - val_false_negatives_12: 0.0000e+00 - val_false_positives_12: 0.0000e+00 - val_true_negatives_12: 68.0000 - val_true_positives_12: 68.0000\n",
            "Epoch 4/50\n",
            "4/4 [==============================] - 5s 1s/step - loss: 849.1603 - accuracy: 0.9900 - auc_12: 0.9900 - recall_12: 0.9900 - precision_12: 0.9900 - f1_score: 0.9900 - specificity_at_sensitivity_12: 0.9900 - sensitivity_at_specificity_12: 0.9900 - false_negatives_12: 1.0000 - false_positives_12: 1.0000 - true_negatives_12: 99.0000 - true_positives_12: 99.0000 - val_loss: 581.4560 - val_accuracy: 0.9706 - val_auc_12: 0.9706 - val_recall_12: 0.9706 - val_precision_12: 0.9706 - val_f1_score: 0.9699 - val_specificity_at_sensitivity_12: 0.9706 - val_sensitivity_at_specificity_12: 0.9706 - val_false_negatives_12: 2.0000 - val_false_positives_12: 2.0000 - val_true_negatives_12: 66.0000 - val_true_positives_12: 66.0000\n",
            "Epoch 5/50\n",
            "4/4 [==============================] - 8s 2s/step - loss: 1522.9703 - accuracy: 0.9700 - auc_12: 0.9700 - recall_12: 0.9700 - precision_12: 0.9700 - f1_score: 0.9699 - specificity_at_sensitivity_12: 0.9700 - sensitivity_at_specificity_12: 0.9700 - false_negatives_12: 3.0000 - false_positives_12: 3.0000 - true_negatives_12: 97.0000 - true_positives_12: 97.0000 - val_loss: 0.0000e+00 - val_accuracy: 1.0000 - val_auc_12: 1.0000 - val_recall_12: 1.0000 - val_precision_12: 1.0000 - val_f1_score: 1.0000 - val_specificity_at_sensitivity_12: 1.0000 - val_sensitivity_at_specificity_12: 1.0000 - val_false_negatives_12: 0.0000e+00 - val_false_positives_12: 0.0000e+00 - val_true_negatives_12: 68.0000 - val_true_positives_12: 68.0000\n"
          ]
        }
      ]
    },
    {
      "cell_type": "code",
      "source": [
        "model.evaluate(X_test,y_test)"
      ],
      "metadata": {
        "colab": {
          "base_uri": "https://localhost:8080/"
        },
        "id": "-bHh9y9l-9nh",
        "outputId": "5caa891b-ff44-4793-e488-4f102393b194"
      },
      "execution_count": 245,
      "outputs": [
        {
          "output_type": "stream",
          "name": "stdout",
          "text": [
            "1/1 [==============================] - 0s 148ms/step - loss: 0.0000e+00 - accuracy: 1.0000 - auc_12: 1.0000 - recall_12: 1.0000 - precision_12: 1.0000 - f1_score: 1.0000 - specificity_at_sensitivity_12: 1.0000 - sensitivity_at_specificity_12: 1.0000 - false_negatives_12: 0.0000e+00 - false_positives_12: 0.0000e+00 - true_negatives_12: 4.0000 - true_positives_12: 4.0000\n"
          ]
        },
        {
          "output_type": "execute_result",
          "data": {
            "text/plain": [
              "[0.0,\n",
              " 1.0,\n",
              " 1.0,\n",
              " 1.0,\n",
              " 1.0,\n",
              " array([1., 1.], dtype=float32),\n",
              " 1.0,\n",
              " 1.0,\n",
              " 0.0,\n",
              " 0.0,\n",
              " 4.0,\n",
              " 4.0]"
            ]
          },
          "metadata": {},
          "execution_count": 245
        }
      ]
    },
    {
      "cell_type": "code",
      "source": [
        "acc = history.history['accuracy']\n",
        "val_acc= history.history['val_accuracy']\n",
        "loss = history.history['loss']\n",
        "val_loss = history.history['val_loss']\n",
        "\n",
        "epochs = range(len(acc))\n",
        "\n",
        "plt.plot(epochs,acc,'r',label=\"Training accuracy\")\n",
        "plt.plot(epochs,val_acc,'b',label=\"Validation accuracy\")\n",
        "plt.title('Training and Validation accuracy')\n",
        "plt.legend(loc=0)\n",
        "plt.figure()\n",
        "plt.show()"
      ],
      "metadata": {
        "colab": {
          "base_uri": "https://localhost:8080/",
          "height": 469
        },
        "id": "gVYM_25h_Hxt",
        "outputId": "b35ce612-3520-4b40-921d-2e625e9b503f"
      },
      "execution_count": 246,
      "outputs": [
        {
          "output_type": "display_data",
          "data": {
            "text/plain": [
              "<Figure size 640x480 with 1 Axes>"
            ],
            "image/png": "[encoded data removed]"
          },
          "metadata": {}
        },
        {
          "output_type": "display_data",
          "data": {
            "text/plain": [
              "<Figure size 640x480 with 0 Axes>"
            ]
          },
          "metadata": {}
        }
      ]
    },
    {
      "cell_type": "code",
      "source": [
        "plt.plot(epochs,loss,'r',label=\"Training loss\")\n",
        "plt.plot(epochs,val_loss,'b',label=\"Validation loss\")\n",
        "plt.title('Training and Validation loss')\n",
        "plt.legend(loc=0)\n",
        "plt.figure()\n",
        "plt.show()"
      ],
      "metadata": {
        "colab": {
          "base_uri": "https://localhost:8080/",
          "height": 469
        },
        "id": "c2gaF0jG_LE4",
        "outputId": "9a6c3ff2-d72a-4081-9f61-fc924e9d1ac6"
      },
      "execution_count": 247,
      "outputs": [
        {
          "output_type": "display_data",
          "data": {
            "text/plain": [
              "<Figure size 640x480 with 1 Axes>"
            ],
            "image/png": "[encoded data removed]"
          },
          "metadata": {}
        },
        {
          "output_type": "display_data",
          "data": {
            "text/plain": [
              "<Figure size 640x480 with 0 Axes>"
            ]
          },
          "metadata": {}
        }
      ]
    }
  ],
  "metadata": {
    "colab": {
      "provenance": []
    },
    "kernelspec": {
      "display_name": "Python 3",
      "name": "python3"
    },
    "language_info": {
      "name": "python"
    }
  },
  "nbformat": 4,
  "nbformat_minor": 0
}